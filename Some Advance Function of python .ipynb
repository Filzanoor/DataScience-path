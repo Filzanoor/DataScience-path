{
 "cells": [
  {
   "cell_type": "code",
   "execution_count": 1,
   "id": "3ac713f9",
   "metadata": {},
   "outputs": [
    {
     "name": "stdout",
     "output_type": "stream",
     "text": [
      "4\n"
     ]
    }
   ],
   "source": [
    "def double(s):\n",
    "    return s*2\n",
    "print(double(2))"
   ]
  },
  {
   "cell_type": "code",
   "execution_count": 2,
   "id": "c3eb611e",
   "metadata": {},
   "outputs": [
    {
     "data": {
      "text/plain": [
       "4"
      ]
     },
     "execution_count": 2,
     "metadata": {},
     "output_type": "execute_result"
    }
   ],
   "source": [
    "double = lambda x : x*2\n",
    "double(2)"
   ]
  },
  {
   "cell_type": "code",
   "execution_count": 3,
   "id": "c9e312d7",
   "metadata": {},
   "outputs": [
    {
     "data": {
      "text/plain": [
       "5"
      ]
     },
     "execution_count": 3,
     "metadata": {},
     "output_type": "execute_result"
    }
   ],
   "source": [
    "multiply = lambda a,b : a+b\n",
    "multiply(2,3)"
   ]
  },
  {
   "cell_type": "code",
   "execution_count": 5,
   "id": "813cec30",
   "metadata": {},
   "outputs": [
    {
     "data": {
      "text/plain": [
       "3.5"
      ]
     },
     "execution_count": 5,
     "metadata": {},
     "output_type": "execute_result"
    }
   ],
   "source": [
    "avg = lambda a,b : a+b/2\n",
    "avg(2,3)"
   ]
  },
  {
   "cell_type": "code",
   "execution_count": 6,
   "id": "26276863",
   "metadata": {},
   "outputs": [
    {
     "name": "stdout",
     "output_type": "stream",
     "text": [
      "10\n"
     ]
    }
   ],
   "source": [
    "def appl(f,value):\n",
    "    return 6+f(value)\n",
    "print(appl(double,2))"
   ]
  },
  {
   "cell_type": "code",
   "execution_count": 7,
   "id": "38217153",
   "metadata": {},
   "outputs": [
    {
     "name": "stdout",
     "output_type": "stream",
     "text": [
      "10\n"
     ]
    }
   ],
   "source": [
    "def appl(f,value):\n",
    "    return 6+f(value)\n",
    "print(appl(lambda x :x*x ,2))"
   ]
  },
  {
   "cell_type": "code",
   "execution_count": 15,
   "id": "4a773b99",
   "metadata": {},
   "outputs": [
    {
     "name": "stdout",
     "output_type": "stream",
     "text": [
      "[1, 8, 64, 216]\n"
     ]
    }
   ],
   "source": [
    "def cube(x):\n",
    "    return x*x*x\n",
    "l = [1,2,4,6]\n",
    "new = []\n",
    "for item in l:\n",
    "    new.append(cube(item))\n",
    "print (new)"
   ]
  },
  {
   "cell_type": "code",
   "execution_count": 18,
   "id": "6fc5d4bc",
   "metadata": {},
   "outputs": [
    {
     "name": "stdout",
     "output_type": "stream",
     "text": [
      "[1, 8, 64, 216]\n",
      "[1, 8, 64, 216]\n"
     ]
    }
   ],
   "source": [
    "def cube(x):\n",
    "    return x*x*x\n",
    "l = [1,2,4,6]\n",
    "a = list(map(cube,l))#firstly function then jis har element pr function apply kare ga\n",
    "print(a)\n",
    "a = list(map(lambda x: x*x*x,l))\n",
    "print(a)"
   ]
  },
  {
   "cell_type": "code",
   "execution_count": 13,
   "id": "5f2c9aa4",
   "metadata": {},
   "outputs": [
    {
     "name": "stdout",
     "output_type": "stream",
     "text": [
      "[6]\n"
     ]
    }
   ],
   "source": [
    "def filter_test(a):\n",
    "    return a > 4\n",
    "a = list(filter(filter_test,l))#firstly function then jis har element pr function apply kare ga\n",
    "print(a)\n"
   ]
  },
  {
   "cell_type": "code",
   "execution_count": 26,
   "id": "c6870691",
   "metadata": {},
   "outputs": [
    {
     "name": "stdout",
     "output_type": "stream",
     "text": [
      "15\n"
     ]
    }
   ],
   "source": [
    "from functools import reduce\n",
    "num =[1,2,3,4,5]\n",
    "sumi = reduce(lambda x,y :x+y ,num)\n",
    "print(sumi)\n",
    "# reduce method takes only 2 arguments means reduce 2 elements so on...."
   ]
  },
  {
   "cell_type": "code",
   "execution_count": null,
   "id": "c5e4b0bf",
   "metadata": {},
   "outputs": [],
   "source": []
  },
  {
   "cell_type": "code",
   "execution_count": null,
   "id": "49e0ba61",
   "metadata": {},
   "outputs": [],
   "source": []
  }
 ],
 "metadata": {
  "kernelspec": {
   "display_name": "Python 3 (ipykernel)",
   "language": "python",
   "name": "python3"
  },
  "language_info": {
   "codemirror_mode": {
    "name": "ipython",
    "version": 3
   },
   "file_extension": ".py",
   "mimetype": "text/x-python",
   "name": "python",
   "nbconvert_exporter": "python",
   "pygments_lexer": "ipython3",
   "version": "3.9.13"
  }
 },
 "nbformat": 4,
 "nbformat_minor": 5
}
